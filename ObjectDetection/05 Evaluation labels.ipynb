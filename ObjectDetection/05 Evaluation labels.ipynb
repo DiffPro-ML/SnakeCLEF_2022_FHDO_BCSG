{
 "cells": [
  {
   "cell_type": "markdown",
   "id": "f860b1f4",
   "metadata": {},
   "source": [
    "This script creates 2 graphics to evaluate the found labels."
   ]
  },
  {
   "cell_type": "markdown",
   "id": "062af86b",
   "metadata": {},
   "source": [
    "# Setup"
   ]
  },
  {
   "cell_type": "code",
   "execution_count": null,
   "id": "2c1cd43a",
   "metadata": {},
   "outputs": [],
   "source": [
    "import os\n",
    "from tqdm import tqdm\n",
    "import pandas as pd\n",
    "import matplotlib.pyplot as plt\n",
    "import shutil"
   ]
  },
  {
   "cell_type": "markdown",
   "id": "e93e42e2",
   "metadata": {},
   "source": [
    "# Raid"
   ]
  },
  {
   "cell_type": "code",
   "execution_count": null,
   "id": "8bf14c3d",
   "metadata": {},
   "outputs": [],
   "source": [
    "%cd /raid/USER"
   ]
  },
  {
   "cell_type": "code",
   "execution_count": null,
   "id": "92f5c736",
   "metadata": {},
   "outputs": [],
   "source": [
    "print('TRAIN')\n",
    "print('Images',len(os.listdir('./images/train/images')))\n",
    "print('Labels',len(os.listdir('./images/train/labels')))\n",
    "\n",
    "print('VAL')\n",
    "print('Images',len(os.listdir('./images/val/images')))\n",
    "print('Labels',len(os.listdir('./images/val/labels')))"
   ]
  },
  {
   "cell_type": "markdown",
   "id": "17d0a8f7",
   "metadata": {},
   "source": [
    "Create table with the most important data"
   ]
  },
  {
   "cell_type": "code",
   "execution_count": null,
   "id": "bec05ccc",
   "metadata": {},
   "outputs": [],
   "source": [
    "label_data_df = pd.DataFrame(columns=['class','X','Y','W','H'])\n",
    "\n",
    "count_error = 0\n",
    "erro_paths = []\n",
    "\n",
    "for filename in tqdm(os.listdir('./images/train/labels')):\n",
    "    filename_path = './images/train/labels/{}'.format(filename)\n",
    "    \n",
    "    with open(filename_path) as file:\n",
    "        try:\n",
    "            class_, x,y,w,h = file.read().split(' ')\n",
    "            class_ = int(class_)\n",
    "            x = float(x)\n",
    "            y = float(y)\n",
    "            w = float(w)\n",
    "            h = float(h)\n",
    "            label_data_df = pd.concat([label_data_df,pd.DataFrame({'class':[class_],'X':[x],'Y':[y],'W':[w],'H':[h]})], ignore_index=True)\n",
    "        except:\n",
    "            erro_paths.append(filename_path)\n",
    "            count_error += 1\n",
    "print('ERROR count: ',count_error) "
   ]
  },
  {
   "cell_type": "code",
   "execution_count": null,
   "id": "f81b460d",
   "metadata": {},
   "outputs": [],
   "source": [
    "label_data_df.head()"
   ]
  },
  {
   "cell_type": "code",
   "execution_count": null,
   "id": "8854fc37",
   "metadata": {},
   "outputs": [],
   "source": [
    "label_data_df_val = pd.DataFrame(columns=['class','X','Y','W','H'])\n",
    "\n",
    "count_error = 0\n",
    "erro_paths = []\n",
    "\n",
    "for filename in tqdm(os.listdir('./images/val/labels')):\n",
    "    filename_path = './images/val/labels/{}'.format(filename)\n",
    "    \n",
    "    with open(filename_path) as file:\n",
    "        try:\n",
    "            class_, x,y,w,h = file.read().split(' ')\n",
    "            class_ = int(class_)\n",
    "            x = float(x)\n",
    "            y = float(y)\n",
    "            w = float(w)\n",
    "            h = float(h)\n",
    "            label_data_df_val = pd.concat([label_data_df_val,pd.DataFrame({'class':[class_],'X':[x],'Y':[y],'W':[w],'H':[h]})], ignore_index=True)\n",
    "        except:\n",
    "            erro_paths.append(filename_path)\n",
    "            count_error += 1\n",
    "print('ERROR count: ',count_error) "
   ]
  },
  {
   "cell_type": "code",
   "execution_count": null,
   "id": "e3a70e09",
   "metadata": {},
   "outputs": [],
   "source": [
    "label_data_df_val.head()"
   ]
  },
  {
   "cell_type": "markdown",
   "id": "38e1b11b",
   "metadata": {},
   "source": [
    "# Graphics"
   ]
  },
  {
   "cell_type": "code",
   "execution_count": null,
   "id": "63c4939d",
   "metadata": {},
   "outputs": [],
   "source": [
    "# width vs height * Prio\n",
    "plt.figure(figsize=(8,8))\n",
    "plt.xlim([0, 1])\n",
    "plt.ylim([0, 1])\n",
    "#plt.title('Comparison of the relative height versus relative width\\n of all bounding boxes in the training and validation data.',fontsize=16)\n",
    "plt.scatter(label_data_df['W'],label_data_df['H'], s=30, alpha=0.02, facecolor='#0343DF' ,label='training')\n",
    "plt.scatter(label_data_df_val['W'],label_data_df_val['H'], s=30, alpha=0.02,facecolor='#0343DF',label='validation')\n",
    "plt.xlabel('The relative width \\nof the bounding box',fontsize=14)\n",
    "plt.ylabel('The relative height \\nof the bounding box',fontsize=14)\n",
    "#plt.legend()\n",
    "plt.savefig('./figures/boundingboxcoorWvsHtrainandval.pdf',bbox_inches='tight',format='pdf')\n",
    "plt.show()"
   ]
  },
  {
   "cell_type": "code",
   "execution_count": null,
   "id": "5ec8273c",
   "metadata": {},
   "outputs": [],
   "source": [
    "# width vs height * Prio\n",
    "plt.figure(figsize=(8,8))\n",
    "plt.xlim([0, 1])\n",
    "plt.ylim([0, 1])\n",
    "#plt.title('Comparison of the relative height versus relative width\\n of all bounding boxes in the training and validation data.',fontsize=16)\n",
    "plt.scatter(label_data_df['X'],label_data_df['Y'], s=30, alpha=0.01, facecolor='#0343DF' ,label='training')\n",
    "plt.scatter(label_data_df_val['X'],label_data_df_val['Y'], s=30, alpha=0.02,facecolor='#0343DF',label='validation')\n",
    "plt.xlabel('Relative X coordinate of \\nthe bounding box center point',fontsize=14)\n",
    "plt.ylabel('Relative Y coordinate of \\nthe bounding box center point',fontsize=14)\n",
    "#plt.legend()\n",
    "plt.savefig('./figures/boundingboxcoorXvsYtrainandval.pdf',bbox_inches='tight',format='pdf')\n",
    "plt.show()"
   ]
  }
 ],
 "metadata": {
  "kernelspec": {
   "display_name": "Python 3 (ipykernel)",
   "language": "python",
   "name": "python3"
  },
  "language_info": {
   "codemirror_mode": {
    "name": "ipython",
    "version": 3
   },
   "file_extension": ".py",
   "mimetype": "text/x-python",
   "name": "python",
   "nbconvert_exporter": "python",
   "pygments_lexer": "ipython3",
   "version": "3.8.10"
  }
 },
 "nbformat": 4,
 "nbformat_minor": 5
}
