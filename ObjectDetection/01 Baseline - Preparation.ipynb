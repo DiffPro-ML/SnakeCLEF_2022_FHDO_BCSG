{
 "cells": [
  {
   "cell_type": "markdown",
   "id": "93b638f3",
   "metadata": {},
   "source": [
    "This script describes the structure of the data processing for the SnakeCLEF 2021 data."
   ]
  },
  {
   "cell_type": "code",
   "execution_count": null,
   "id": "0fa4f779",
   "metadata": {},
   "outputs": [],
   "source": [
    "import shutil\n",
    "import pandas as pd\n",
    "import os\n",
    "from sklearn.model_selection import train_test_split\n",
    "from tqdm import tqdm"
   ]
  },
  {
   "cell_type": "markdown",
   "id": "9710e3e7",
   "metadata": {},
   "source": [
    "# Load Metadata\n",
    "Load the image metadata (n=1,800) from SnakeCLEF 2021.\n",
    "At this point, the data for SnakeCLEF 2021 is needed."
   ]
  },
  {
   "cell_type": "code",
   "execution_count": null,
   "id": "c686fa77",
   "metadata": {},
   "outputs": [],
   "source": [
    "# Complete SnakeCLEF 2021 Metadata\n",
    "path_to_meta = 'OWN_PATH/SnakeCLEF2021_train_metadata_PROD.csv'\n",
    "df = pd.read_csv(path_to_meta)"
   ]
  },
  {
   "cell_type": "code",
   "execution_count": null,
   "id": "b9f942ce",
   "metadata": {},
   "outputs": [],
   "source": [
    "df.head()"
   ]
  },
  {
   "cell_type": "code",
   "execution_count": null,
   "id": "211dd17a",
   "metadata": {},
   "outputs": [],
   "source": [
    "df_short = pd.read_csv('OWN_PATH/meta_df_short.csv')"
   ]
  },
  {
   "cell_type": "code",
   "execution_count": null,
   "id": "faa393f2",
   "metadata": {},
   "outputs": [],
   "source": [
    "df_short.head()"
   ]
  },
  {
   "cell_type": "markdown",
   "id": "74b17cbe",
   "metadata": {},
   "source": [
    "Since only the labels are given as txt file, the corresponding image files must be found. This is realized via the UUID. Under annotation > labels > labels the corresponding labels would be stored."
   ]
  },
  {
   "cell_type": "code",
   "execution_count": null,
   "id": "1ed776ec",
   "metadata": {},
   "outputs": [],
   "source": [
    "# Names of all labels.txt\n",
    "annotations = pd.DataFrame(os.listdir('OWN_PATH/annotation/labels/labels'),columns=['name'])\n",
    "annotations = annotations[annotations['name']!='classes.txt']\n",
    "print('Len annotations ',len(annotations))\n",
    "annotations['UUID']=annotations['name'].str.split('.',expand=True)[0]\n",
    "print(annotations)"
   ]
  },
  {
   "cell_type": "code",
   "execution_count": null,
   "id": "87a6ccbb",
   "metadata": {},
   "outputs": [],
   "source": [
    "# Selection of the corresponding entries from the large table\n",
    "df_short = df[df['UUID'].isin(annotations['UUID'])]"
   ]
  },
  {
   "cell_type": "code",
   "execution_count": null,
   "id": "7671ff08",
   "metadata": {},
   "outputs": [],
   "source": [
    "len(df_short)"
   ]
  },
  {
   "cell_type": "code",
   "execution_count": null,
   "id": "d9da43dd",
   "metadata": {},
   "outputs": [],
   "source": [
    "df_short.head()"
   ]
  },
  {
   "cell_type": "markdown",
   "id": "a468e607",
   "metadata": {},
   "source": [
    "# Preparation for the 1st training run"
   ]
  },
  {
   "cell_type": "code",
   "execution_count": null,
   "id": "1ae5cddb",
   "metadata": {},
   "outputs": [],
   "source": [
    "train, val = train_test_split(df_short, shuffle=True, test_size=0.20, random_state=42)"
   ]
  },
  {
   "cell_type": "code",
   "execution_count": null,
   "id": "79fedf47",
   "metadata": {},
   "outputs": [],
   "source": [
    "print('Len TRAIN: ',len(train))\n",
    "print('Len VALIDATION: ',len(val))"
   ]
  },
  {
   "cell_type": "markdown",
   "id": "1d6231e9",
   "metadata": {},
   "source": [
    "# Preprocessing\n",
    "## Images\n",
    "The images which are in the respective training set must now be moved from 'images/all' to 'images/train/images' or 'images/val/images'.\n",
    "## Labels\n",
    "The labels are identified by the UUID of the image and sorted accordingly by 'images/train/labels' or 'images/val/labels\n",
    "## Classes.txt\n",
    "Create a file 'classes.txt' and write 'snake' at the first position."
   ]
  },
  {
   "cell_type": "code",
   "execution_count": null,
   "id": "d5d622ad",
   "metadata": {},
   "outputs": [],
   "source": [
    "path_to_images = 'OWN_PATH/images/all'\n",
    "path_to_labels = 'OWN_PATH/annotation/labels/labels'\n",
    "c = 0\n",
    "\n",
    "# TRAINING\n",
    "\n",
    "for index, row in tqdm(train.iterrows()):\n",
    "    \n",
    "    # label\n",
    "    src_label = '{}/{}.txt'.format(path_to_labels,row['UUID'])\n",
    "    dst_label = 'OWN_PATH/images/train/labels/{}.txt'.format(row['UUID'])\n",
    "    \n",
    "    try:\n",
    "        shutil.copy(src_label,dst_label) \n",
    "    except Exception as e:\n",
    "        print('ERROR: Label could not be moved! STOP')\n",
    "        print('UUID: ',row['UUID'])\n",
    "        # SOFORT STOP, da sonst nur Fehler auftreten, wenn wir versuchen YOLOv5 zu starten!\n",
    "        break\n",
    "        \n",
    "    # image\n",
    "    scr_image = '{}/{}'.format(path_to_images,row['image_path'])\n",
    "    dst_image = 'OWN_PATH/images/train/images/{}.jpg'.format(row['UUID'])\n",
    "    \n",
    "    try:\n",
    "        shutil.move(scr_image,dst_image) \n",
    "    except Exception as e:\n",
    "        print('TRAIN ERROR: Image could not be moved!!')\n",
    "        print('UUID: ',row['UUID'],' #'+c)\n",
    "        \n",
    "    c+=1\n",
    "# copy classes.txt\n",
    "shutil.copy('{}/classes.txt'.format(path_to_labels),'OWN_PATH/images/train/labels/classes.txt')\n",
    "          \n",
    "# VALIDATION    \n",
    "    \n",
    "for index, row in tqdm(val.iterrows()):\n",
    "    \n",
    "    # label\n",
    "    src_label = '{}/{}.txt'.format(path_to_labels,row['UUID'])\n",
    "    dst_label = 'OWN_PATH/images/val/labels/{}.txt'.format(row['UUID'])\n",
    "    \n",
    "    try:\n",
    "        shutil.copy(src_label,dst_label) \n",
    "    except Exception as e:\n",
    "        print('VAL ERROR: Label could not be moved! STOP')\n",
    "        print('UUID: ',row['UUID'])\n",
    "        break # Stop -> to avoid later errors when starting the YOLOv5 training\n",
    "        \n",
    "    # image\n",
    "    scr_image = '{}/{}'.format(path_to_images,row['image_path'])\n",
    "    dst_image = 'OWN_PATH/images/val/images/{}.jpg'.format(row['UUID'])\n",
    "    \n",
    "    try:\n",
    "        shutil.move(scr_image,dst_image) \n",
    "    except Exception as e:\n",
    "        print('ERROR: Image could not be moved!')\n",
    "        print('UUID: ',row['UUID'])\n",
    "        \n",
    "\n",
    "# copy classes.txt \n",
    "shutil.copy('{}/classes.txt'.format(path_to_labels),'OWN_PATH/images/val/labels/classes.txt')"
   ]
  },
  {
   "cell_type": "code",
   "execution_count": null,
   "id": "27c110ae",
   "metadata": {},
   "outputs": [],
   "source": [
    "# Move images to other folder\n",
    "for ele in tqdm(os.listdir('OWN_PATH/images/train')):\n",
    "    if ele.endswith('.jpg'):\n",
    "        shutil.move('OWN_PATH/images/train/{}'.format(ele),'OWN_PATH/images/train/images/{}'.format(ele))"
   ]
  },
  {
   "cell_type": "code",
   "execution_count": null,
   "id": "c74c80ee",
   "metadata": {},
   "outputs": [],
   "source": [
    "# Move images to other folder\n",
    "for ele in tqdm(os.listdir('OWN_PATH/images/val')):\n",
    "    if ele.endswith('.jpg'):\n",
    "        shutil.move('OWN_PATH/images/val/{}'.format(ele),'OWN_PATH/images/val/images/{}'.format(ele))"
   ]
  },
  {
   "cell_type": "code",
   "execution_count": null,
   "id": "610e89f9",
   "metadata": {},
   "outputs": [],
   "source": [
    "os.listdir('OWN_PATH/images/train')"
   ]
  },
  {
   "cell_type": "code",
   "execution_count": null,
   "id": "caf0f5a6",
   "metadata": {},
   "outputs": [],
   "source": [
    "os.listdir('OWN_PATH/images/val')"
   ]
  }
 ],
 "metadata": {
  "kernelspec": {
   "display_name": "Python 3 (ipykernel)",
   "language": "python",
   "name": "python3"
  },
  "language_info": {
   "codemirror_mode": {
    "name": "ipython",
    "version": 3
   },
   "file_extension": ".py",
   "mimetype": "text/x-python",
   "name": "python",
   "nbconvert_exporter": "python",
   "pygments_lexer": "ipython3",
   "version": "3.8.10"
  }
 },
 "nbformat": 4,
 "nbformat_minor": 5
}
