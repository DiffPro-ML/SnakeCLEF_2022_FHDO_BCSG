{
 "cells": [
  {
   "cell_type": "markdown",
   "id": "7bc1617a",
   "metadata": {},
   "source": [
    "This script is used to train the first YOLOv5 mode on the given 1,800 images of SnakeCLEF 2021."
   ]
  },
  {
   "cell_type": "markdown",
   "id": "046b0799",
   "metadata": {},
   "source": [
    "# Get YOLOv5"
   ]
  },
  {
   "cell_type": "code",
   "execution_count": null,
   "id": "88cbf37f",
   "metadata": {},
   "outputs": [],
   "source": [
    "! git clone https://github.com/ultralytics/yolov5  # clone\n",
    "% cd yolov5\n",
    "% pip install -qr requirements.txt  # install\n",
    "% cd yolov5_projektarbeit"
   ]
  },
  {
   "cell_type": "markdown",
   "id": "c5d81e1e",
   "metadata": {},
   "source": [
    "# Setup"
   ]
  },
  {
   "cell_type": "code",
   "execution_count": null,
   "id": "8236d3a6",
   "metadata": {},
   "outputs": [],
   "source": [
    "import torch\n",
    "from psutil import virtual_memory\n",
    "import shutil\n",
    "import os\n",
    "import gc\n",
    "from matplotlib import pyplot as plt\n",
    "import numpy as np\n",
    "import cv2\n",
    "from matplotlib.pyplot import figure"
   ]
  },
  {
   "cell_type": "code",
   "execution_count": null,
   "id": "f4805ec5",
   "metadata": {},
   "outputs": [],
   "source": [
    "# check YOLOv5\n",
    "%cd yolov5\n",
    "from yolov5 import utils\n",
    "display = utils.notebook_init()  # checks"
   ]
  },
  {
   "cell_type": "code",
   "execution_count": null,
   "id": "06560569",
   "metadata": {},
   "outputs": [],
   "source": [
    "# check GPU\n",
    "gpu_info = !nvidia-smi\n",
    "gpu_info = '\\n'.join(gpu_info)\n",
    "if gpu_info.find('failed') >= 0:\n",
    "  print('Not connected to a GPU')\n",
    "else:\n",
    "  print(gpu_info)"
   ]
  },
  {
   "cell_type": "code",
   "execution_count": null,
   "id": "6b070192",
   "metadata": {},
   "outputs": [],
   "source": [
    "# (optional) Check RAM\n",
    "ram_gb = virtual_memory().total / 1e9\n",
    "print('Your runtime has {:.1f} gigabytes of available RAM\\n'.format(ram_gb))\n",
    "\n",
    "if ram_gb < 20:\n",
    "  print('Not using a high-RAM runtime')\n",
    "else:\n",
    "  print('You are using a high-RAM runtime!')"
   ]
  },
  {
   "cell_type": "markdown",
   "id": "36d13886",
   "metadata": {},
   "source": [
    "## Move YAML files to YOLOv5 installation\n",
    "### Model meta information\n",
    "Here we tell YOLOv5 where to find the data as well as how many classes there are and what they are called. Are created manually.\n",
    "\n",
    "<code>\n",
    "    path: ../images # dataset root dir\n",
    "    train: [train/images, train/labels]  \n",
    "    val: [val/images, val/labels]\n",
    "\n",
    "    \\# Classes\n",
    "    nc: 1  # number of classes\n",
    "    names: ['snake']  # class names\n",
    "</code>\n",
    "\n",
    "## Model settings\n",
    "Here we only adjust the number of classes (nc) and copy&paste the predefined model architecture. For the YOLOv5 modelv5l this looks like this:\n",
    "<code>\n",
    "    \\# YOLOv5 🚀 by Ultralytics, GPL-3.0 license\n",
    "\n",
    "    \\# Parameters\n",
    "    nc: 1  \\# number of classes\n",
    "    depth_multiple: 1.0  \\# model depth multiple\n",
    "    width_multiple: 1.0  \\# layer channel multiple\n",
    "    anchors:\n",
    "      - [10,13, 16,30, 33,23]  \\# P3/8\n",
    "      - [30,61, 62,45, 59,119]  # P4/16\n",
    "      - [116,90, 156,198, 373,326]  \\# P5/32\n",
    "\n",
    "    \\# YOLOv5 v6.0 backbone\n",
    "    backbone:\n",
    "      \\# [from, number, module, args]\n",
    "      [[-1, 1, Conv, [64, 6, 2, 2]],  \\# 0-P1/2\n",
    "       [-1, 1, Conv, [128, 3, 2]],  \\# 1-P2/4\n",
    "       [-1, 3, C3, [128]],\n",
    "       [-1, 1, Conv, [256, 3, 2]],  \\# 3-P3/8\n",
    "       [-1, 6, C3, [256]],\n",
    "       [-1, 1, Conv, [512, 3, 2]],  \\# 5-P4/16\n",
    "       [-1, 9, C3, [512]],\n",
    "       [-1, 1, Conv, [1024, 3, 2]],  \\# 7-P5/32\n",
    "       [-1, 3, C3, [1024]],\n",
    "       [-1, 1, SPPF, [1024, 5]],  \\# 9\n",
    "      ]\n",
    "\n",
    "    \\# YOLOv5 v6.0 head\n",
    "    head:\n",
    "      [[-1, 1, Conv, [512, 1, 1]],\n",
    "       [-1, 1, nn.Upsample, [None, 2, 'nearest']],\n",
    "       [[-1, 6], 1, Concat, [1]],  \\# cat backbone P4\n",
    "       [-1, 3, C3, [512, False]],  \\# 13\n",
    "\n",
    "       [-1, 1, Conv, [256, 1, 1]],\n",
    "       [-1, 1, nn.Upsample, [None, 2, 'nearest']],\n",
    "       [[-1, 4], 1, Concat, [1]],  \\# cat backbone P3\n",
    "       [-1, 3, C3, [256, False]],  \\# 17 (P3/8-small)\n",
    "\n",
    "       [-1, 1, Conv, [256, 3, 2]],\n",
    "       [[-1, 14], 1, Concat, [1]],  \\# cat head P4\n",
    "       [-1, 3, C3, [512, False]],  \\# 20 (P4/16-medium)\n",
    "\n",
    "       [-1, 1, Conv, [512, 3, 2]],\n",
    "       [[-1, 10], 1, Concat, [1]],  \\# cat head P5\n",
    "       [-1, 3, C3, [1024, False]],  \\# 23 (P5/32-large)\n",
    "\n",
    "       [[17, 20, 23], 1, Detect, [nc, anchors]],  \\# Detect(P3, P4, P5)\n",
    "      ]\n",
    "</code>"
   ]
  },
  {
   "cell_type": "code",
   "execution_count": null,
   "id": "82a09af1",
   "metadata": {},
   "outputs": [],
   "source": [
    "# Model settings\n",
    "path_to_model = 'OWN_PATH/yolov5_yaml/model_settings/model_settings' # Manuelly creatd model definition.\n",
    "target_model = 'yolov5l_snake.yaml' # select your model \n",
    "shutil.copy('{}/{}'.format(path_to_model,target_model),'OWN_PATH/yolov5/models') # Paste to YOLOv5 installation\n",
    "\n",
    "# Model meta infos\n",
    "path_to_meta = 'OWN_PATH/yolov5_yaml/snake_detection.yaml' # Manually created YAML\n",
    "\n",
    "shutil.copy(path_to_meta,'OWN_PATH/yolov5/data') # Past to YOLOv5 installation\n"
   ]
  },
  {
   "cell_type": "markdown",
   "id": "d2a01673",
   "metadata": {},
   "source": [
    "# Check data\n",
    "Check whether the data from script 01 has been sorted correctly."
   ]
  },
  {
   "cell_type": "code",
   "execution_count": null,
   "id": "e96a97ad",
   "metadata": {},
   "outputs": [],
   "source": [
    "print('TRAIN')\n",
    "print('Images',len(os.listdir('OWN_PATH/images/train/images')))\n",
    "print('Labels',len(os.listdir('OWN_PATH/images/train/labels')))\n",
    "\n",
    "print('VAL')\n",
    "print('Images',len(os.listdir('OWN_PATH/images/val/images')))\n",
    "print('Labels',len(os.listdir('OWN_PATH/images/val/labels')))"
   ]
  },
  {
   "cell_type": "markdown",
   "id": "b4d5f42e",
   "metadata": {},
   "source": [
    "# Train a YOLOv5 model\n",
    "A brief overview of the parameters used:\n",
    "<code>\n",
    "    --img 640 # Max. image input size (640px)\n",
    "    --batch 14 # Number of batch\n",
    "    --cfg yolov5/models/yolov5l_snake.yaml # Pass the model structure to YOLOv5\n",
    "    --epochs 200 # Number of epochs used for training\n",
    "    --data yolov5/data/snake_detection.yaml # Tell YOLOv5 where it can find the corresponding data\n",
    "    --cache # YOLOv5 uses RAM to speed up the calculation\n",
    "    --weights yolov5l.pt # Specify the weights that YOLOv5 should use\n",
    "    </code>\n",
    "Various graphs on metrics of the training can be found in the folder given by YOLOv5. It is worth looking at the created files."
   ]
  },
  {
   "cell_type": "code",
   "execution_count": null,
   "id": "91b1496f",
   "metadata": {},
   "outputs": [],
   "source": [
    "!python yolov5/train.py --img 640 --batch 14 --cfg yolov5/models/yolov5l_snake.yaml --epochs 200 --data yolov5/data/snake_detection.yaml --cache --weights yolov5l.pt \n"
   ]
  },
  {
   "cell_type": "markdown",
   "id": "57f57036",
   "metadata": {},
   "source": [
    "# Save YOLOv5 run\n"
   ]
  },
  {
   "cell_type": "code",
   "execution_count": null,
   "id": "24d292f3",
   "metadata": {},
   "outputs": [],
   "source": [
    "run = 'exp' \n",
    "model_name = 'OUR_NAME_FOR_RUN' \n",
    "\n",
    "shutil.copytree(path_to_run,'OWN_PATH/saved_runs/exp_{}'.format(model_name))"
   ]
  }
 ],
 "metadata": {
  "kernelspec": {
   "display_name": "Python 3 (ipykernel)",
   "language": "python",
   "name": "python3"
  },
  "language_info": {
   "codemirror_mode": {
    "name": "ipython",
    "version": 3
   },
   "file_extension": ".py",
   "mimetype": "text/x-python",
   "name": "python",
   "nbconvert_exporter": "python",
   "pygments_lexer": "ipython3",
   "version": "3.8.10"
  }
 },
 "nbformat": 4,
 "nbformat_minor": 5
}
