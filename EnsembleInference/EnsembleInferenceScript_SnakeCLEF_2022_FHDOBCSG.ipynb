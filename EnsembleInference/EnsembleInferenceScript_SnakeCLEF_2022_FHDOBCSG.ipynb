{
 "cells": [
  {
   "cell_type": "code",
   "execution_count": null,
   "id": "ca695ab5",
   "metadata": {},
   "outputs": [],
   "source": [
    "import pandas as pd\n",
    "import os\n",
    "import numpy as np"
   ]
  },
  {
   "cell_type": "code",
   "execution_count": null,
   "id": "629f4f33",
   "metadata": {},
   "outputs": [],
   "source": [
    "TEST_LABELS_DIR=os.path.abspath(\"/path/to/SnakeCLEF2022-TestMetadata.csv\")\n",
    "TEST_DATA_DIR = \"/path/to/SnakeCLEF2022-large_size/\"\n",
    "validationDataset=pd.read_csv(TEST_LABELS_DIR)\n",
    "validationDataset[\"image_path\"]=TEST_DATA_DIR+validationDataset.file_path\n",
    "\n"
   ]
  },
  {
   "cell_type": "code",
   "execution_count": null,
   "id": "5411f756",
   "metadata": {},
   "outputs": [],
   "source": [
    "res=np.zeros((28431,1572))"
   ]
  },
  {
   "cell_type": "code",
   "execution_count": null,
   "id": "a95cf8a6",
   "metadata": {},
   "outputs": [],
   "source": [
    "i=0\n",
    "modelPredictionPaths=[\"/path/to/modelPredictions1.csv\",\"/path/to/modelPredictions2.csv\",...,\"/path/to/modelPredictions3.csv\"]\n",
    "for predictionPath in modelPredictionPaths:\n",
    "    dataModel=pd.read_csv(predictionPath)\n",
    "    dataModel=dataModel.to_numpy()\n",
    "    res=res+dataModel\n",
    "    i+=1"
   ]
  },
  {
   "cell_type": "code",
   "execution_count": null,
   "id": "70915333",
   "metadata": {},
   "outputs": [],
   "source": [
    "res=res/i"
   ]
  },
  {
   "cell_type": "code",
   "execution_count": null,
   "id": "0d7fac5e",
   "metadata": {},
   "outputs": [],
   "source": [
    "countryDistributionObsLevel=pd.read_csv(\"/path/to/CountrySnakeDistributionTrainObservationLevel.csv\")\n",
    "\n",
    "countryDistributionObsLevelBin=pd.read_csv(\"/path/to/CountrySnakeDistributionTrainObservationLevelBin.csv\")"
   ]
  },
  {
   "cell_type": "code",
   "execution_count": null,
   "id": "46f15ccc",
   "metadata": {},
   "outputs": [],
   "source": [
    "validationDatasetCountry=validationDataset.drop([\"endemic\",\"code\",\"file_path\",\"image_path\"],axis=1)\n",
    "\n",
    "validationDatasetCountry=validationDatasetCountry.drop_duplicates()\n",
    "\n",
    "validationDatasetCountry.iloc[~validationDatasetCountry.country.isin(countryDistributionObsLevel[\"Unnamed: 0\"]),1]=\"unknown\"\n",
    "\n",
    "datasetTestCountryDistObsLev=pd.merge(validationDatasetCountry,countryDistributionObsLevel,left_on=\"country\",right_on=\"Unnamed: 0\")\n",
    "datasetTestCountryDistObsLevBin=pd.merge(validationDatasetCountry,countryDistributionObsLevelBin,left_on=\"country\",right_on=\"Unnamed: 0\")\n",
    "\n",
    "datasetTestCountryDistObsLev=datasetTestCountryDistObsLev.sort_values(\"observation_id\",ignore_index=True)\n",
    "\n",
    "datasetTestCountryDistObsLevBin=datasetTestCountryDistObsLevBin.sort_values(\"observation_id\",ignore_index=True)"
   ]
  },
  {
   "cell_type": "code",
   "execution_count": null,
   "id": "ccc56f87",
   "metadata": {},
   "outputs": [],
   "source": [
    "obsList=datasetTestCountryDistObsLevBin.observation_id.tolist()"
   ]
  },
  {
   "cell_type": "code",
   "execution_count": null,
   "id": "3c9fb998",
   "metadata": {},
   "outputs": [],
   "source": [
    "datasetTestCountryDistObsLev=datasetTestCountryDistObsLev.drop([\"observation_id\",\"country\",\"Unnamed: 0\"],axis=1)\n",
    "\n",
    "datasetTestCountryDistObsLevBin=datasetTestCountryDistObsLevBin.drop([\"observation_id\",\"country\",\"Unnamed: 0\"],axis=1)\n",
    "\n",
    "country=datasetTestCountryDistObsLev.to_numpy()\n",
    "\n",
    "countryBin=datasetTestCountryDistObsLevBin.to_numpy()\n",
    "\n",
    "results=np.multiply(res,country)\n",
    "\n",
    "resultsBin=np.multiply(res,countryBin)"
   ]
  },
  {
   "cell_type": "code",
   "execution_count": null,
   "id": "e888d831",
   "metadata": {},
   "outputs": [],
   "source": [
    "d = {'ObservationId': obsList, 'class_id': resultsBin.argmax(axis=1).tolist()}\n",
    "predictionsWithCountryBin=pd.DataFrame(data=d)"
   ]
  },
  {
   "cell_type": "code",
   "execution_count": null,
   "id": "1f593283",
   "metadata": {},
   "outputs": [],
   "source": [
    "d = {'ObservationId': obsList, 'class_id': results.argmax(axis=1).tolist()}\n",
    "predictionsWithCountry=pd.DataFrame(data=d)"
   ]
  },
  {
   "cell_type": "code",
   "execution_count": null,
   "id": "8d9c9209",
   "metadata": {},
   "outputs": [],
   "source": [
    "d = {'ObservationId': obsList, 'class_id': res.argmax(axis=1).tolist()}\n",
    "predictionsWithoutCountry=pd.DataFrame(data=d)"
   ]
  },
  {
   "cell_type": "code",
   "execution_count": null,
   "id": "e93c536a",
   "metadata": {},
   "outputs": [],
   "source": [
    "predictionsWithCountry=predictionsWithCountry.astype(\"int64\")\n",
    "\n",
    "predictionsWithCountryBin=predictionsWithCountryBin.astype(\"int64\")\n",
    "\n",
    "predictionsWithoutCountry=predictionsWithoutCountry.astype(\"int64\")"
   ]
  },
  {
   "cell_type": "code",
   "execution_count": null,
   "id": "56ab837e",
   "metadata": {},
   "outputs": [],
   "source": [
    "predictionsWithCountry.to_csv(\"/path/to/save/Ensemble_WithCountry.csv\",index=False)"
   ]
  },
  {
   "cell_type": "code",
   "execution_count": null,
   "id": "65470d6c",
   "metadata": {},
   "outputs": [],
   "source": [
    "predictionsWithCountryBin.to_csv(\"/path/to/save/Ensemble_WithCountryBin.csv\",index=False)"
   ]
  },
  {
   "cell_type": "code",
   "execution_count": null,
   "id": "97866338",
   "metadata": {},
   "outputs": [],
   "source": [
    "predictionsWithoutCountry.to_csv(\"/path/to/save//Ensemble_WithoutCountry.csv\",index=False)"
   ]
  }
 ],
 "metadata": {
  "kernelspec": {
   "display_name": "Python 3",
   "language": "python",
   "name": "python3"
  },
  "language_info": {
   "codemirror_mode": {
    "name": "ipython",
    "version": 3
   },
   "file_extension": ".py",
   "mimetype": "text/x-python",
   "name": "python",
   "nbconvert_exporter": "python",
   "pygments_lexer": "ipython3",
   "version": "3.6.9"
  }
 },
 "nbformat": 4,
 "nbformat_minor": 5
}
